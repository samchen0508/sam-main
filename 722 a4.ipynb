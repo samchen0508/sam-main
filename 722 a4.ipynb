{
 "cells": [
  {
   "cell_type": "code",
   "execution_count": 1,
   "id": "9c3a2066",
   "metadata": {},
   "outputs": [
    {
     "ename": "PermissionError",
     "evalue": "[Errno 13] Permission denied: '/home/samch/spark-3.3.0-bin-hadoop3/./bin/spark-submit'",
     "output_type": "error",
     "traceback": [
      "\u001b[0;31m---------------------------------------------------------------------------\u001b[0m",
      "\u001b[0;31mPermissionError\u001b[0m                           Traceback (most recent call last)",
      "\u001b[0;32m/tmp/ipykernel_26/1319592300.py\u001b[0m in \u001b[0;36m<module>\u001b[0;34m\u001b[0m\n\u001b[1;32m      5\u001b[0m \u001b[0;32mfrom\u001b[0m \u001b[0mpyspark\u001b[0m\u001b[0;34m.\u001b[0m\u001b[0msql\u001b[0m \u001b[0;32mimport\u001b[0m \u001b[0mSparkSession\u001b[0m\u001b[0;34m\u001b[0m\u001b[0;34m\u001b[0m\u001b[0m\n\u001b[1;32m      6\u001b[0m \u001b[0;32mimport\u001b[0m \u001b[0mpandas\u001b[0m \u001b[0;32mas\u001b[0m \u001b[0mpd\u001b[0m\u001b[0;34m\u001b[0m\u001b[0;34m\u001b[0m\u001b[0m\n\u001b[0;32m----> 7\u001b[0;31m \u001b[0mspark\u001b[0m \u001b[0;34m=\u001b[0m \u001b[0mSparkSession\u001b[0m\u001b[0;34m.\u001b[0m\u001b[0mbuilder\u001b[0m\u001b[0;34m.\u001b[0m\u001b[0mappName\u001b[0m\u001b[0;34m(\u001b[0m\u001b[0;34m'722-a4'\u001b[0m\u001b[0;34m)\u001b[0m\u001b[0;34m.\u001b[0m\u001b[0mgetOrCreate\u001b[0m\u001b[0;34m(\u001b[0m\u001b[0;34m)\u001b[0m\u001b[0;34m\u001b[0m\u001b[0;34m\u001b[0m\u001b[0m\n\u001b[0m",
      "\u001b[0;32m~/spark-3.3.0-bin-hadoop3/python/pyspark/sql/session.py\u001b[0m in \u001b[0;36mgetOrCreate\u001b[0;34m(self)\u001b[0m\n\u001b[1;32m    267\u001b[0m                         \u001b[0msparkConf\u001b[0m\u001b[0;34m.\u001b[0m\u001b[0mset\u001b[0m\u001b[0;34m(\u001b[0m\u001b[0mkey\u001b[0m\u001b[0;34m,\u001b[0m \u001b[0mvalue\u001b[0m\u001b[0;34m)\u001b[0m\u001b[0;34m\u001b[0m\u001b[0;34m\u001b[0m\u001b[0m\n\u001b[1;32m    268\u001b[0m                     \u001b[0;31m# This SparkContext may be an existing one.\u001b[0m\u001b[0;34m\u001b[0m\u001b[0;34m\u001b[0m\u001b[0m\n\u001b[0;32m--> 269\u001b[0;31m                     \u001b[0msc\u001b[0m \u001b[0;34m=\u001b[0m \u001b[0mSparkContext\u001b[0m\u001b[0;34m.\u001b[0m\u001b[0mgetOrCreate\u001b[0m\u001b[0;34m(\u001b[0m\u001b[0msparkConf\u001b[0m\u001b[0;34m)\u001b[0m\u001b[0;34m\u001b[0m\u001b[0;34m\u001b[0m\u001b[0m\n\u001b[0m\u001b[1;32m    270\u001b[0m                     \u001b[0;31m# Do not update `SparkConf` for existing `SparkContext`, as it's shared\u001b[0m\u001b[0;34m\u001b[0m\u001b[0;34m\u001b[0m\u001b[0m\n\u001b[1;32m    271\u001b[0m                     \u001b[0;31m# by all sessions.\u001b[0m\u001b[0;34m\u001b[0m\u001b[0;34m\u001b[0m\u001b[0m\n",
      "\u001b[0;32m~/spark-3.3.0-bin-hadoop3/python/pyspark/context.py\u001b[0m in \u001b[0;36mgetOrCreate\u001b[0;34m(cls, conf)\u001b[0m\n\u001b[1;32m    481\u001b[0m         \u001b[0;32mwith\u001b[0m \u001b[0mSparkContext\u001b[0m\u001b[0;34m.\u001b[0m\u001b[0m_lock\u001b[0m\u001b[0;34m:\u001b[0m\u001b[0;34m\u001b[0m\u001b[0;34m\u001b[0m\u001b[0m\n\u001b[1;32m    482\u001b[0m             \u001b[0;32mif\u001b[0m \u001b[0mSparkContext\u001b[0m\u001b[0;34m.\u001b[0m\u001b[0m_active_spark_context\u001b[0m \u001b[0;32mis\u001b[0m \u001b[0;32mNone\u001b[0m\u001b[0;34m:\u001b[0m\u001b[0;34m\u001b[0m\u001b[0;34m\u001b[0m\u001b[0m\n\u001b[0;32m--> 483\u001b[0;31m                 \u001b[0mSparkContext\u001b[0m\u001b[0;34m(\u001b[0m\u001b[0mconf\u001b[0m\u001b[0;34m=\u001b[0m\u001b[0mconf\u001b[0m \u001b[0;32mor\u001b[0m \u001b[0mSparkConf\u001b[0m\u001b[0;34m(\u001b[0m\u001b[0;34m)\u001b[0m\u001b[0;34m)\u001b[0m\u001b[0;34m\u001b[0m\u001b[0;34m\u001b[0m\u001b[0m\n\u001b[0m\u001b[1;32m    484\u001b[0m             \u001b[0;32massert\u001b[0m \u001b[0mSparkContext\u001b[0m\u001b[0;34m.\u001b[0m\u001b[0m_active_spark_context\u001b[0m \u001b[0;32mis\u001b[0m \u001b[0;32mnot\u001b[0m \u001b[0;32mNone\u001b[0m\u001b[0;34m\u001b[0m\u001b[0;34m\u001b[0m\u001b[0m\n\u001b[1;32m    485\u001b[0m             \u001b[0;32mreturn\u001b[0m \u001b[0mSparkContext\u001b[0m\u001b[0;34m.\u001b[0m\u001b[0m_active_spark_context\u001b[0m\u001b[0;34m\u001b[0m\u001b[0;34m\u001b[0m\u001b[0m\n",
      "\u001b[0;32m~/spark-3.3.0-bin-hadoop3/python/pyspark/context.py\u001b[0m in \u001b[0;36m__init__\u001b[0;34m(self, master, appName, sparkHome, pyFiles, environment, batchSize, serializer, conf, gateway, jsc, profiler_cls, udf_profiler_cls)\u001b[0m\n\u001b[1;32m    193\u001b[0m             )\n\u001b[1;32m    194\u001b[0m \u001b[0;34m\u001b[0m\u001b[0m\n\u001b[0;32m--> 195\u001b[0;31m         \u001b[0mSparkContext\u001b[0m\u001b[0;34m.\u001b[0m\u001b[0m_ensure_initialized\u001b[0m\u001b[0;34m(\u001b[0m\u001b[0mself\u001b[0m\u001b[0;34m,\u001b[0m \u001b[0mgateway\u001b[0m\u001b[0;34m=\u001b[0m\u001b[0mgateway\u001b[0m\u001b[0;34m,\u001b[0m \u001b[0mconf\u001b[0m\u001b[0;34m=\u001b[0m\u001b[0mconf\u001b[0m\u001b[0;34m)\u001b[0m\u001b[0;34m\u001b[0m\u001b[0;34m\u001b[0m\u001b[0m\n\u001b[0m\u001b[1;32m    196\u001b[0m         \u001b[0;32mtry\u001b[0m\u001b[0;34m:\u001b[0m\u001b[0;34m\u001b[0m\u001b[0;34m\u001b[0m\u001b[0m\n\u001b[1;32m    197\u001b[0m             self._do_init(\n",
      "\u001b[0;32m~/spark-3.3.0-bin-hadoop3/python/pyspark/context.py\u001b[0m in \u001b[0;36m_ensure_initialized\u001b[0;34m(cls, instance, gateway, conf)\u001b[0m\n\u001b[1;32m    415\u001b[0m         \u001b[0;32mwith\u001b[0m \u001b[0mSparkContext\u001b[0m\u001b[0;34m.\u001b[0m\u001b[0m_lock\u001b[0m\u001b[0;34m:\u001b[0m\u001b[0;34m\u001b[0m\u001b[0;34m\u001b[0m\u001b[0m\n\u001b[1;32m    416\u001b[0m             \u001b[0;32mif\u001b[0m \u001b[0;32mnot\u001b[0m \u001b[0mSparkContext\u001b[0m\u001b[0;34m.\u001b[0m\u001b[0m_gateway\u001b[0m\u001b[0;34m:\u001b[0m\u001b[0;34m\u001b[0m\u001b[0;34m\u001b[0m\u001b[0m\n\u001b[0;32m--> 417\u001b[0;31m                 \u001b[0mSparkContext\u001b[0m\u001b[0;34m.\u001b[0m\u001b[0m_gateway\u001b[0m \u001b[0;34m=\u001b[0m \u001b[0mgateway\u001b[0m \u001b[0;32mor\u001b[0m \u001b[0mlaunch_gateway\u001b[0m\u001b[0;34m(\u001b[0m\u001b[0mconf\u001b[0m\u001b[0;34m)\u001b[0m\u001b[0;34m\u001b[0m\u001b[0;34m\u001b[0m\u001b[0m\n\u001b[0m\u001b[1;32m    418\u001b[0m                 \u001b[0mSparkContext\u001b[0m\u001b[0;34m.\u001b[0m\u001b[0m_jvm\u001b[0m \u001b[0;34m=\u001b[0m \u001b[0mSparkContext\u001b[0m\u001b[0;34m.\u001b[0m\u001b[0m_gateway\u001b[0m\u001b[0;34m.\u001b[0m\u001b[0mjvm\u001b[0m\u001b[0;34m\u001b[0m\u001b[0;34m\u001b[0m\u001b[0m\n\u001b[1;32m    419\u001b[0m \u001b[0;34m\u001b[0m\u001b[0m\n",
      "\u001b[0;32m~/spark-3.3.0-bin-hadoop3/python/pyspark/java_gateway.py\u001b[0m in \u001b[0;36mlaunch_gateway\u001b[0;34m(conf, popen_kwargs)\u001b[0m\n\u001b[1;32m     94\u001b[0m \u001b[0;34m\u001b[0m\u001b[0m\n\u001b[1;32m     95\u001b[0m                 \u001b[0mpopen_kwargs\u001b[0m\u001b[0;34m[\u001b[0m\u001b[0;34m\"preexec_fn\"\u001b[0m\u001b[0;34m]\u001b[0m \u001b[0;34m=\u001b[0m \u001b[0mpreexec_func\u001b[0m\u001b[0;34m\u001b[0m\u001b[0;34m\u001b[0m\u001b[0m\n\u001b[0;32m---> 96\u001b[0;31m                 \u001b[0mproc\u001b[0m \u001b[0;34m=\u001b[0m \u001b[0mPopen\u001b[0m\u001b[0;34m(\u001b[0m\u001b[0mcommand\u001b[0m\u001b[0;34m,\u001b[0m \u001b[0;34m**\u001b[0m\u001b[0mpopen_kwargs\u001b[0m\u001b[0;34m)\u001b[0m\u001b[0;34m\u001b[0m\u001b[0;34m\u001b[0m\u001b[0m\n\u001b[0m\u001b[1;32m     97\u001b[0m             \u001b[0;32melse\u001b[0m\u001b[0;34m:\u001b[0m\u001b[0;34m\u001b[0m\u001b[0;34m\u001b[0m\u001b[0m\n\u001b[1;32m     98\u001b[0m                 \u001b[0;31m# preexec_fn not supported on Windows\u001b[0m\u001b[0;34m\u001b[0m\u001b[0;34m\u001b[0m\u001b[0m\n",
      "\u001b[0;32m/usr/lib/python3.10/subprocess.py\u001b[0m in \u001b[0;36m__init__\u001b[0;34m(self, args, bufsize, executable, stdin, stdout, stderr, preexec_fn, close_fds, shell, cwd, env, universal_newlines, startupinfo, creationflags, restore_signals, start_new_session, pass_fds, user, group, extra_groups, encoding, errors, text, umask, pipesize)\u001b[0m\n\u001b[1;32m    967\u001b[0m                             encoding=encoding, errors=errors)\n\u001b[1;32m    968\u001b[0m \u001b[0;34m\u001b[0m\u001b[0m\n\u001b[0;32m--> 969\u001b[0;31m             self._execute_child(args, executable, preexec_fn, close_fds,\n\u001b[0m\u001b[1;32m    970\u001b[0m                                 \u001b[0mpass_fds\u001b[0m\u001b[0;34m,\u001b[0m \u001b[0mcwd\u001b[0m\u001b[0;34m,\u001b[0m \u001b[0menv\u001b[0m\u001b[0;34m,\u001b[0m\u001b[0;34m\u001b[0m\u001b[0;34m\u001b[0m\u001b[0m\n\u001b[1;32m    971\u001b[0m                                 \u001b[0mstartupinfo\u001b[0m\u001b[0;34m,\u001b[0m \u001b[0mcreationflags\u001b[0m\u001b[0;34m,\u001b[0m \u001b[0mshell\u001b[0m\u001b[0;34m,\u001b[0m\u001b[0;34m\u001b[0m\u001b[0;34m\u001b[0m\u001b[0m\n",
      "\u001b[0;32m/usr/lib/python3.10/subprocess.py\u001b[0m in \u001b[0;36m_execute_child\u001b[0;34m(self, args, executable, preexec_fn, close_fds, pass_fds, cwd, env, startupinfo, creationflags, shell, p2cread, p2cwrite, c2pread, c2pwrite, errread, errwrite, restore_signals, gid, gids, uid, umask, start_new_session)\u001b[0m\n\u001b[1;32m   1843\u001b[0m                     \u001b[0;32mif\u001b[0m \u001b[0merrno_num\u001b[0m \u001b[0;34m!=\u001b[0m \u001b[0;36m0\u001b[0m\u001b[0;34m:\u001b[0m\u001b[0;34m\u001b[0m\u001b[0;34m\u001b[0m\u001b[0m\n\u001b[1;32m   1844\u001b[0m                         \u001b[0merr_msg\u001b[0m \u001b[0;34m=\u001b[0m \u001b[0mos\u001b[0m\u001b[0;34m.\u001b[0m\u001b[0mstrerror\u001b[0m\u001b[0;34m(\u001b[0m\u001b[0merrno_num\u001b[0m\u001b[0;34m)\u001b[0m\u001b[0;34m\u001b[0m\u001b[0;34m\u001b[0m\u001b[0m\n\u001b[0;32m-> 1845\u001b[0;31m                     \u001b[0;32mraise\u001b[0m \u001b[0mchild_exception_type\u001b[0m\u001b[0;34m(\u001b[0m\u001b[0merrno_num\u001b[0m\u001b[0;34m,\u001b[0m \u001b[0merr_msg\u001b[0m\u001b[0;34m,\u001b[0m \u001b[0merr_filename\u001b[0m\u001b[0;34m)\u001b[0m\u001b[0;34m\u001b[0m\u001b[0;34m\u001b[0m\u001b[0m\n\u001b[0m\u001b[1;32m   1846\u001b[0m                 \u001b[0;32mraise\u001b[0m \u001b[0mchild_exception_type\u001b[0m\u001b[0;34m(\u001b[0m\u001b[0merr_msg\u001b[0m\u001b[0;34m)\u001b[0m\u001b[0;34m\u001b[0m\u001b[0;34m\u001b[0m\u001b[0m\n\u001b[1;32m   1847\u001b[0m \u001b[0;34m\u001b[0m\u001b[0m\n",
      "\u001b[0;31mPermissionError\u001b[0m: [Errno 13] Permission denied: '/home/samch/spark-3.3.0-bin-hadoop3/./bin/spark-submit'"
     ]
    }
   ],
   "source": [
    "# Must be included at the beginning of each new notebook. Remember to change the app name.\n",
    "import findspark\n",
    "findspark.init('/home/samch/spark-3.3.0-bin-hadoop3')\n",
    "import pyspark\n",
    "from pyspark.sql import SparkSession\n",
    "import pandas as pd\n",
    "spark = SparkSession.builder.appName('722-a4').getOrCreate()"
   ]
  },
  {
   "cell_type": "code",
   "execution_count": 11,
   "id": "b6d94fcd",
   "metadata": {},
   "outputs": [
    {
     "name": "stderr",
     "output_type": "stream",
     "text": [
      "                                                                                \r"
     ]
    },
    {
     "name": "stdout",
     "output_type": "stream",
     "text": [
      "+-------+----+------+-----------+-----------+----------+-----------------+------------+------------+------------------+------------------+---------------+\n",
      "|country|year|   sex|        age|suicides_no|population|suicides/100k pop|country-year|HDI for year| gdp_for_year ($) |gdp_per_capita ($)|     generation|\n",
      "+-------+----+------+-----------+-----------+----------+-----------------+------------+------------+------------------+------------------+---------------+\n",
      "|Albania|1987|  male|15-24 years|         21|    312900|             6.71| Albania1987|        null|     2,156,624,900|               796|   Generation X|\n",
      "|Albania|1987|  male|35-54 years|         16|    308000|             5.19| Albania1987|        null|     2,156,624,900|               796|         Silent|\n",
      "|Albania|1987|female|15-24 years|         14|    289700|             4.83| Albania1987|        null|     2,156,624,900|               796|   Generation X|\n",
      "|Albania|1987|  male|  75+ years|          1|     21800|             4.59| Albania1987|        null|     2,156,624,900|               796|G.I. Generation|\n",
      "|Albania|1987|  male|25-34 years|          9|    274300|             3.28| Albania1987|        null|     2,156,624,900|               796|        Boomers|\n",
      "|Albania|1987|female|  75+ years|          1|     35600|             2.81| Albania1987|        null|     2,156,624,900|               796|G.I. Generation|\n",
      "|Albania|1987|female|35-54 years|          6|    278800|             2.15| Albania1987|        null|     2,156,624,900|               796|         Silent|\n",
      "|Albania|1987|female|25-34 years|          4|    257200|             1.56| Albania1987|        null|     2,156,624,900|               796|        Boomers|\n",
      "|Albania|1987|  male|55-74 years|          1|    137500|             0.73| Albania1987|        null|     2,156,624,900|               796|G.I. Generation|\n",
      "|Albania|1987|female| 5-14 years|          0|    311000|              0.0| Albania1987|        null|     2,156,624,900|               796|   Generation X|\n",
      "|Albania|1987|female|55-74 years|          0|    144600|              0.0| Albania1987|        null|     2,156,624,900|               796|G.I. Generation|\n",
      "|Albania|1987|  male| 5-14 years|          0|    338200|              0.0| Albania1987|        null|     2,156,624,900|               796|   Generation X|\n",
      "|Albania|1988|female|  75+ years|          2|     36400|             5.49| Albania1988|        null|     2,126,000,000|               769|G.I. Generation|\n",
      "|Albania|1988|  male|15-24 years|         17|    319200|             5.33| Albania1988|        null|     2,126,000,000|               769|   Generation X|\n",
      "|Albania|1988|  male|  75+ years|          1|     22300|             4.48| Albania1988|        null|     2,126,000,000|               769|G.I. Generation|\n",
      "|Albania|1988|  male|35-54 years|         14|    314100|             4.46| Albania1988|        null|     2,126,000,000|               769|         Silent|\n",
      "|Albania|1988|  male|55-74 years|          4|    140200|             2.85| Albania1988|        null|     2,126,000,000|               769|G.I. Generation|\n",
      "|Albania|1988|female|15-24 years|          8|    295600|             2.71| Albania1988|        null|     2,126,000,000|               769|   Generation X|\n",
      "|Albania|1988|female|55-74 years|          3|    147500|             2.03| Albania1988|        null|     2,126,000,000|               769|G.I. Generation|\n",
      "|Albania|1988|female|25-34 years|          5|    262400|             1.91| Albania1988|        null|     2,126,000,000|               769|        Boomers|\n",
      "+-------+----+------+-----------+-----------+----------+-----------------+------------+------------+------------------+------------------+---------------+\n",
      "only showing top 20 rows\n",
      "\n"
     ]
    }
   ],
   "source": [
    "# Importing data which has a header. Schema is automatically configured.\n",
    "df = spark.read.csv('master.csv', header=True, inferSchema=True)\n",
    "\n",
    "# Let's see the data. You'll notice nulls.\n",
    "df.show()"
   ]
  },
  {
   "cell_type": "code",
   "execution_count": 12,
   "id": "1867452e",
   "metadata": {},
   "outputs": [
    {
     "name": "stdout",
     "output_type": "stream",
     "text": [
      "root\n",
      " |-- country: string (nullable = true)\n",
      " |-- year: integer (nullable = true)\n",
      " |-- sex: string (nullable = true)\n",
      " |-- age: string (nullable = true)\n",
      " |-- suicides_no: integer (nullable = true)\n",
      " |-- population: integer (nullable = true)\n",
      " |-- suicides/100k pop: double (nullable = true)\n",
      " |-- country-year: string (nullable = true)\n",
      " |-- HDI for year: double (nullable = true)\n",
      " |--  gdp_for_year ($) : string (nullable = true)\n",
      " |-- gdp_per_capita ($): integer (nullable = true)\n",
      " |-- generation: string (nullable = true)\n",
      "\n"
     ]
    }
   ],
   "source": [
    "# But what about data type?\n",
    "df.printSchema()"
   ]
  },
  {
   "cell_type": "code",
   "execution_count": 13,
   "id": "fffca102",
   "metadata": {},
   "outputs": [
    {
     "data": {
      "text/plain": [
       "['country',\n",
       " 'year',\n",
       " 'sex',\n",
       " 'age',\n",
       " 'suicides_no',\n",
       " 'population',\n",
       " 'suicides/100k pop',\n",
       " 'country-year',\n",
       " 'HDI for year',\n",
       " ' gdp_for_year ($) ',\n",
       " 'gdp_per_capita ($)',\n",
       " 'generation']"
      ]
     },
     "execution_count": 13,
     "metadata": {},
     "output_type": "execute_result"
    }
   ],
   "source": [
    "# Display the columns\n",
    "df.columns"
   ]
  },
  {
   "cell_type": "code",
   "execution_count": 14,
   "id": "44b691cc",
   "metadata": {},
   "outputs": [
    {
     "name": "stderr",
     "output_type": "stream",
     "text": [
      "                                                                                \r"
     ]
    },
    {
     "name": "stdout",
     "output_type": "stream",
     "text": [
      "+-------+----------+------------------+------+-----------+------------------+------------------+------------------+\n",
      "|summary|   country|              year|   sex|        age|       suicides_no|        population| suicides/100k pop|\n",
      "+-------+----------+------------------+------+-----------+------------------+------------------+------------------+\n",
      "|  count|     27820|             27820| 27820|      27820|             27820|             27820|             27820|\n",
      "|   mean|      null|2001.2583752695903|  null|       null|242.57440690150972|1844793.6173975556|12.816097411933894|\n",
      "| stddev|      null| 8.469055024441408|  null|       null| 902.0479168336403|3911779.4417563565| 18.96151101450326|\n",
      "|    min|   Albania|              1985|female|15-24 years|                 0|               278|               0.0|\n",
      "|    max|Uzbekistan|              2016|  male|  75+ years|             22338|          43805214|            224.97|\n",
      "+-------+----------+------------------+------+-----------+------------------+------------------+------------------+\n",
      "\n"
     ]
    }
   ],
   "source": [
    "df.describe(['country',\n",
    " 'year',\n",
    " 'sex',\n",
    " 'age',\n",
    " 'suicides_no',\n",
    " 'population',\n",
    " 'suicides/100k pop']).show()"
   ]
  },
  {
   "cell_type": "code",
   "execution_count": 15,
   "id": "dd8d7a83",
   "metadata": {},
   "outputs": [
    {
     "name": "stderr",
     "output_type": "stream",
     "text": [
      "\r\n",
      "[Stage 7:>                                                          (0 + 1) / 1]\r"
     ]
    },
    {
     "name": "stdout",
     "output_type": "stream",
     "text": [
      "+-------+--------------+-------------------+------------------+------------------+----------+\n",
      "|summary|  country-year|       HDI for year| gdp_for_year ($) |gdp_per_capita ($)|generation|\n",
      "+-------+--------------+-------------------+------------------+------------------+----------+\n",
      "|  count|         27820|               8364|             27820|             27820|     27820|\n",
      "|   mean|          null| 0.7766011477761785|              null|16866.464414090584|      null|\n",
      "| stddev|          null|0.09336670859029984|              null|18887.576472205576|      null|\n",
      "|    min|   Albania1987|              0.483| 1,002,219,052,968|               251|   Boomers|\n",
      "|    max|Uzbekistan2014|              0.944|       997,007,926|            126352|    Silent|\n",
      "+-------+--------------+-------------------+------------------+------------------+----------+\n",
      "\n"
     ]
    },
    {
     "name": "stderr",
     "output_type": "stream",
     "text": [
      "\r\n",
      "                                                                                \r"
     ]
    }
   ],
   "source": [
    " df.describe(['country-year',\n",
    " 'HDI for year',\n",
    " ' gdp_for_year ($) ',\n",
    " 'gdp_per_capita ($)',\n",
    " 'generation']).show()"
   ]
  },
  {
   "cell_type": "code",
   "execution_count": 16,
   "id": "9edb77f7",
   "metadata": {},
   "outputs": [],
   "source": [
    "data = df.toPandas()"
   ]
  },
  {
   "cell_type": "code",
   "execution_count": 17,
   "id": "b4729b2f",
   "metadata": {},
   "outputs": [],
   "source": [
    "data_1 = data.copy()\n",
    "for index_label, row_series in data_1.iterrows():\n",
    "    data_1.at[index_label , ' gdp_for_year ($) '] = row_series[' gdp_for_year ($) '].replace(',','')\n",
    "\n",
    "data_1[' gdp_for_year ($) '] = pd.to_numeric(data_1[' gdp_for_year ($) '])"
   ]
  },
  {
   "cell_type": "code",
   "execution_count": 18,
   "id": "e183c773",
   "metadata": {
    "scrolled": true
   },
   "outputs": [
    {
     "name": "stdout",
     "output_type": "stream",
     "text": [
      "0           Albania\n",
      "1           Albania\n",
      "2           Albania\n",
      "3           Albania\n",
      "4           Albania\n",
      "            ...    \n",
      "27815    Uzbekistan\n",
      "27816    Uzbekistan\n",
      "27817    Uzbekistan\n",
      "27818    Uzbekistan\n",
      "27819    Uzbekistan\n",
      "Name: country, Length: 27820, dtype: category\n",
      "Categories (101, object): ['Albania', 'Antigua and Barbuda', 'Argentina', 'Armenia', ..., 'United Kingdom', 'United States', 'Uruguay', 'Uzbekistan']\n",
      "0        1987\n",
      "1        1987\n",
      "2        1987\n",
      "3        1987\n",
      "4        1987\n",
      "         ... \n",
      "27815    2014\n",
      "27816    2014\n",
      "27817    2014\n",
      "27818    2014\n",
      "27819    2014\n",
      "Name: year, Length: 27820, dtype: category\n",
      "Categories (32, int64): [1985, 1986, 1987, 1988, ..., 2013, 2014, 2015, 2016]\n",
      "0          male\n",
      "1          male\n",
      "2        female\n",
      "3          male\n",
      "4          male\n",
      "          ...  \n",
      "27815    female\n",
      "27816    female\n",
      "27817      male\n",
      "27818    female\n",
      "27819    female\n",
      "Name: sex, Length: 27820, dtype: category\n",
      "Categories (2, object): ['female', 'male']\n",
      "0        15-24 years\n",
      "1        35-54 years\n",
      "2        15-24 years\n",
      "3          75+ years\n",
      "4        25-34 years\n",
      "            ...     \n",
      "27815    35-54 years\n",
      "27816      75+ years\n",
      "27817     5-14 years\n",
      "27818     5-14 years\n",
      "27819    55-74 years\n",
      "Name: age, Length: 27820, dtype: category\n",
      "Categories (6, object): ['15-24 years', '25-34 years', '35-54 years', '5-14 years', '55-74 years', '75+ years']\n",
      "0           Albania1987\n",
      "1           Albania1987\n",
      "2           Albania1987\n",
      "3           Albania1987\n",
      "4           Albania1987\n",
      "              ...      \n",
      "27815    Uzbekistan2014\n",
      "27816    Uzbekistan2014\n",
      "27817    Uzbekistan2014\n",
      "27818    Uzbekistan2014\n",
      "27819    Uzbekistan2014\n",
      "Name: country-year, Length: 27820, dtype: category\n",
      "Categories (2321, object): ['Albania1987', 'Albania1988', 'Albania1989', 'Albania1992', ..., 'Uzbekistan2011', 'Uzbekistan2012', 'Uzbekistan2013', 'Uzbekistan2014']\n",
      "0           Generation X\n",
      "1                 Silent\n",
      "2           Generation X\n",
      "3        G.I. Generation\n",
      "4                Boomers\n",
      "              ...       \n",
      "27815       Generation X\n",
      "27816             Silent\n",
      "27817       Generation Z\n",
      "27818       Generation Z\n",
      "27819            Boomers\n",
      "Name: generation, Length: 27820, dtype: category\n",
      "Categories (6, object): ['Boomers', 'G.I. Generation', 'Generation X', 'Generation Z', 'Millenials', 'Silent']\n"
     ]
    }
   ],
   "source": [
    "coding_schema = ['country', 'year', 'sex', 'age', 'country-year', 'generation']\n",
    "for code in coding_schema:\n",
    "    print(data[code].astype('category'))"
   ]
  },
  {
   "cell_type": "code",
   "execution_count": 19,
   "id": "64006ccd",
   "metadata": {},
   "outputs": [
    {
     "data": {
      "image/png": "[encoded data removed]",
      "text/plain": [
       "<Figure size 432x288 with 1 Axes>"
      ]
     },
     "metadata": {
      "needs_background": "light"
     },
     "output_type": "display_data"
    }
   ],
   "source": [
    "import matplotlib.pyplot as plt\n",
    "\n",
    "#Section 2.3\n",
    "plt.hist(data['suicides_no'])\n",
    "plt.title(\"Suicdes_no\")\n",
    "plt.xlabel(\"Suicdes_no\")\n",
    "plt.ylabel(\"Count\")\n",
    "plt.show()"
   ]
  },
  {
   "cell_type": "code",
   "execution_count": 20,
   "id": "5cf4ac82",
   "metadata": {
    "scrolled": true
   },
   "outputs": [
    {
     "data": {
      "image/png": "[encoded data removed]",
      "text/plain": [
       "<Figure size 432x288 with 1 Axes>"
      ]
     },
     "metadata": {
      "needs_background": "light"
     },
     "output_type": "display_data"
    }
   ],
   "source": [
    "plot_dt = data.groupby(\"year\")['suicides/100k pop'].mean().reset_index()\n",
    "plt.plot(plot_dt.iloc[:, 0], plot_dt.iloc[:, 1])\n",
    "plt.title(\"suicides_rate vs year\")\n",
    "plt.xlabel(\"Year\")\n",
    "plt.ylabel(\"Average suicides rates\")\n",
    "plt.show()"
   ]
  },
  {
   "cell_type": "code",
   "execution_count": 21,
   "id": "05568fcc",
   "metadata": {},
   "outputs": [
    {
     "data": {
      "image/png": "[encoded data removed]",
      "text/plain": [
       "<Figure size 432x288 with 1 Axes>"
      ]
     },
     "metadata": {
      "needs_background": "light"
     },
     "output_type": "display_data"
    }
   ],
   "source": [
    "plot_dt = data.groupby(\"sex\")['suicides/100k pop'].mean().reset_index()\n",
    "plt.bar(plot_dt.iloc[:, 0], plot_dt.iloc[:, 1])\n",
    "plt.title(\"suicides_rate vs sex\")\n",
    "plt.xlabel(\"Sex\")\n",
    "plt.ylabel(\"Average suicides rates\")\n",
    "plt.show()"
   ]
  },
  {
   "cell_type": "code",
   "execution_count": 22,
   "id": "0c575e30",
   "metadata": {},
   "outputs": [
    {
     "data": {
      "image/png": "[encoded data removed]",
      "text/plain": [
       "<Figure size 432x288 with 1 Axes>"
      ]
     },
     "metadata": {
      "needs_background": "light"
     },
     "output_type": "display_data"
    }
   ],
   "source": [
    "plot_dt = data.groupby(\"age\")['suicides/100k pop'].mean().reset_index()\n",
    "plt.bar(plot_dt.iloc[:, 0], plot_dt.iloc[:, 1])\n",
    "plt.title(\"suicides_rate vs age\")\n",
    "plt.xlabel(\"Age\")\n",
    "plt.ylabel(\"Average suicides rates\")\n",
    "plt.show()"
   ]
  },
  {
   "cell_type": "code",
   "execution_count": 23,
   "id": "c236b848",
   "metadata": {},
   "outputs": [
    {
     "data": {
      "image/png": "[encoded data removed]",
      "text/plain": [
       "<Figure size 432x288 with 1 Axes>"
      ]
     },
     "metadata": {
      "needs_background": "light"
     },
     "output_type": "display_data"
    }
   ],
   "source": [
    "plot_dt = data_1.groupby(\" gdp_for_year ($) \")['suicides/100k pop'].mean().reset_index().sort_values(by=[' gdp_for_year ($) '])\n",
    "plt.scatter(plot_dt.iloc[:, 0], plot_dt.iloc[:, 1])\n",
    "plt.title(\"suicides_rate vs gdp_for_year ($)\")\n",
    "plt.xlabel(\"GDP for year\")\n",
    "plt.ylabel(\"Average suicides rates\")\n",
    "plt.show()"
   ]
  },
  {
   "cell_type": "code",
   "execution_count": 24,
   "id": "f5195a81",
   "metadata": {},
   "outputs": [],
   "source": [
    "from pyspark.sql import functions as f\n",
    "def find_outliers(df):\n",
    "\n",
    "    # Identifying the numerical columns in a spark dataframe\n",
    "    numeric_columns = [column[0] for column in df.dtypes if column[1]=='int']\n",
    "\n",
    "    # Using the `for` loop to create new columns by identifying the outliers for each feature\n",
    "    for column in numeric_columns:\n",
    "\n",
    "        less_Q1 = 'less_Q1_{}'.format(column)\n",
    "        more_Q3 = 'more_Q3_{}'.format(column)\n",
    "        Q1 = 'Q1_{}'.format(column)\n",
    "        Q3 = 'Q3_{}'.format(column)\n",
    "\n",
    "        # Q1 : First Quartile ., Q3 : Third Quartile\n",
    "        Q1 = df.approxQuantile(column,[0.25],relativeError=0)\n",
    "        Q3 = df.approxQuantile(column,[0.75],relativeError=0)\n",
    "        \n",
    "        # IQR : Inter Quantile Range\n",
    "        # We need to define the index [0], as Q1 & Q3 are a set of lists., to perform a mathematical operation\n",
    "        # Q1 & Q3 are defined seperately so as to have a clear indication on First Quantile & 3rd Quantile\n",
    "        IQR = Q3[0] - Q1[0]\n",
    "        \n",
    "        #selecting the data, with -1.5*IQR to + 1.5*IQR., where param = 1.5 default value\n",
    "        less_Q1 =  Q1[0] - 1.5*IQR\n",
    "        more_Q3 =  Q3[0] + 1.5*IQR\n",
    "        \n",
    "        isOutlierCol = 'is_outlier_{}'.format(column)\n",
    "        \n",
    "        df = df.withColumn(isOutlierCol,f.when((df[column] > more_Q3) | (df[column] < less_Q1), 1).otherwise(0))\n",
    "    \n",
    "\n",
    "    # Selecting the specific columns which we have added above, to check if there are any outliers\n",
    "    selected_columns = [column for column in df.columns if column.startswith(\"is_outlier\")]\n",
    "\n",
    "    # Adding all the outlier columns into a new colum \"total_outliers\", to see the total number of outliers\n",
    "    df = df.withColumn('total_outliers',sum(df[column] for column in selected_columns))\n",
    "\n",
    "    # Dropping the extra columns created above, just to create nice dataframe., without extra columns\n",
    "    df = df.drop(*[column for column in df.columns if column.startswith(\"is_outlier\")])\n",
    "\n",
    "    return df"
   ]
  },
  {
   "cell_type": "code",
   "execution_count": null,
   "id": "76ac13f6",
   "metadata": {},
   "outputs": [],
   "source": [
    "outliers = find_outliers(df)\n",
    "outliers = outliers.filter(outliers['total_Outliers']>=1)\n",
    "outliers.show()"
   ]
  },
  {
   "cell_type": "code",
   "execution_count": null,
   "id": "16b110fc",
   "metadata": {},
   "outputs": [],
   "source": [
    "outliers.describe(['total_Outliers']).show()"
   ]
  },
  {
   "cell_type": "code",
   "execution_count": null,
   "id": "b0308c4a",
   "metadata": {},
   "outputs": [],
   "source": [
    "df_2 = df.drop('suicides_no', 'country-year' , 'population')\n",
    "df_2.columns"
   ]
  },
  {
   "cell_type": "code",
   "execution_count": null,
   "id": "4c77003a",
   "metadata": {},
   "outputs": [],
   "source": [
    "df_2 = df_2.na.drop()\n",
    "df_2.describe().show()"
   ]
  },
  {
   "cell_type": "code",
   "execution_count": null,
   "id": "b5079c99",
   "metadata": {},
   "outputs": [],
   "source": [
    "df_3=spark.createDataFrame(data_1) \n",
    "df_3.head()"
   ]
  },
  {
   "cell_type": "code",
   "execution_count": null,
   "id": "455f06fd",
   "metadata": {},
   "outputs": [],
   "source": [
    "df_3 = df_3.drop('suicides_no', 'country-year' , 'population', 'HDI for year')\n",
    "df_3.columns"
   ]
  },
  {
   "cell_type": "code",
   "execution_count": null,
   "id": "4fdbf20b",
   "metadata": {
    "scrolled": true
   },
   "outputs": [],
   "source": [
    "df_3.printSchema()"
   ]
  },
  {
   "cell_type": "code",
   "execution_count": null,
   "id": "6262eb5d",
   "metadata": {},
   "outputs": [],
   "source": [
    "from pyspark.sql.types import DoubleType\n",
    "df_4 = df_3.withColumn(\" gdp_for_year ($) \", df_3[\" gdp_for_year ($) \"].cast(DoubleType()))\n",
    "df_4 = df_4.withColumn(\"gdp_per_capita ($)\", df_3[\"gdp_per_capita ($)\"].cast(DoubleType()))\n",
    "df_4.printSchema()"
   ]
  },
  {
   "cell_type": "code",
   "execution_count": null,
   "id": "728c1cb5",
   "metadata": {},
   "outputs": [],
   "source": [
    "df_4.show()"
   ]
  },
  {
   "cell_type": "code",
   "execution_count": null,
   "id": "3156a281",
   "metadata": {},
   "outputs": [],
   "source": [
    "df_4.describe().show()"
   ]
  },
  {
   "cell_type": "code",
   "execution_count": null,
   "id": "31416692",
   "metadata": {},
   "outputs": [],
   "source": [
    "from pyspark.sql import functions as F\n",
    "df_5 = df_4.withColumn(\n",
    "    'suicides_risk',\n",
    "    F.when(F.col('suicides/100k pop') > 14, 'high')\\\n",
    "    .when(F.col('suicides/100k pop') < 5, 'low')\\\n",
    "    .otherwise('medium')\n",
    ")\n",
    "df_5.show()"
   ]
  },
  {
   "cell_type": "code",
   "execution_count": null,
   "id": "4cb53c06",
   "metadata": {},
   "outputs": [],
   "source": [
    "df_5 = df_5.withColumn(\n",
    "    'developed_country',\n",
    "    F.when(F.col('gdp_per_capita ($)') < 25000, 'undeveloped')\\\n",
    "    .otherwise('developed')\n",
    ")\n",
    "df_5.show()"
   ]
  },
  {
   "cell_type": "code",
   "execution_count": null,
   "id": "f0c2d211",
   "metadata": {
    "scrolled": true
   },
   "outputs": [],
   "source": [
    "df_5.printSchema() "
   ]
  },
  {
   "cell_type": "code",
   "execution_count": null,
   "id": "367b10c4",
   "metadata": {},
   "outputs": [],
   "source": [
    "df_5 = df_5.withColumnRenamed(\" gdp_for_year ($) \",\"gdp_yearly\")\n",
    "df_5 = df_5.withColumnRenamed(\"suicides/100k pop\",\"suicides_rate\")\n",
    "df_5 = df_5.withColumnRenamed(\"gdp_per_capita ($)\",\"gdp_per_capita\")\n",
    "df_5.printSchema()"
   ]
  },
  {
   "cell_type": "code",
   "execution_count": null,
   "id": "cd3a6243",
   "metadata": {},
   "outputs": [],
   "source": [
    "# Demonstration of data integration - Preparation\n",
    "data_a = data.iloc[:, :6]\n",
    "data_b = data.iloc[:, -6:]\n",
    "data_a.to_csv(\"data_a.csv\")\n",
    "data_b.to_csv(\"data_b.csv\")"
   ]
  },
  {
   "cell_type": "code",
   "execution_count": null,
   "id": "5fc4a277",
   "metadata": {},
   "outputs": [],
   "source": [
    "df_a = pd.read_csv(\"data_a.csv\")\n",
    "df_b = pd.read_csv(\"data_b.csv\")"
   ]
  },
  {
   "cell_type": "code",
   "execution_count": null,
   "id": "65f9fb66",
   "metadata": {},
   "outputs": [],
   "source": [
    "merged = df_a.merge(df_b)\n",
    "ps_merged = spark.createDataFrame(merged)\n",
    "ps_merged.columns"
   ]
  },
  {
   "cell_type": "code",
   "execution_count": null,
   "id": "36d3f7e0",
   "metadata": {},
   "outputs": [],
   "source": [
    "from pyspark.ml.feature import (VectorAssembler,VectorIndexer,\n",
    "                                OneHotEncoder,StringIndexer)\n",
    "# First create a string indexer (convert every string into a number, such as male = 0 and female = 1).\n",
    "# A number will be assigned to every category in the column.\n",
    "sex_indexer = StringIndexer(inputCol='sex',outputCol='sexIndex')\n",
    "sex_indexed = sex_indexer.fit(df_5).transform(df_5)\n",
    "\n"
   ]
  },
  {
   "cell_type": "code",
   "execution_count": null,
   "id": "c99ff1ef",
   "metadata": {},
   "outputs": [],
   "source": []
  }
 ],
 "metadata": {
  "kernelspec": {
   "display_name": "Python 3 (ipykernel)",
   "language": "python",
   "name": "python3"
  },
  "language_info": {
   "codemirror_mode": {
    "name": "ipython",
    "version": 3
   },
   "file_extension": ".py",
   "mimetype": "text/x-python",
   "name": "python",
   "nbconvert_exporter": "python",
   "pygments_lexer": "ipython3",
   "version": "3.10.6"
  },
  "vscode": {
   "interpreter": {
    "hash": "e2a3cde41a84fdf555b7345556c4e1a3946df7237d6f4ea51850f1d78ca55536"
   }
  }
 },
 "nbformat": 4,
 "nbformat_minor": 5
}
